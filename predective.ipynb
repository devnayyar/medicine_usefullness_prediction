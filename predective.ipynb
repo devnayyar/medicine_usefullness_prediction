{
 "cells": [
  {
   "cell_type": "code",
   "execution_count": 1,
   "metadata": {},
   "outputs": [],
   "source": [
    "import pandas as pd\n",
    "import numpy as np\n",
    "from sklearn.model_selection import train_test_split\n",
    "from sklearn.preprocessing import LabelEncoder\n",
    "from sklearn.feature_extraction.text import TfidfVectorizer\n",
    "from sklearn.ensemble import RandomForestRegressor\n",
    "from sklearn.metrics import mean_squared_error\n",
    "\n",
    "# Load datasets\n",
    "train_df = pd.read_csv('dataset/train.csv')\n",
    "test_df = pd.read_csv('dataset/test.csv')\n"
   ]
  },
  {
   "cell_type": "code",
   "execution_count": 2,
   "metadata": {},
   "outputs": [],
   "source": [
    "# Function to downcast data types\n",
    "def downcast(df):\n",
    "    float_cols = [c for c in df if df[c].dtype == \"float64\"]\n",
    "    int_cols = [c for c in df if df[c].dtype == \"int64\"]\n",
    "\n",
    "    df[float_cols] = df[float_cols].astype(np.float32)\n",
    "    df[int_cols] = df[int_cols].astype(np.int32)\n",
    "    return df"
   ]
  },
  {
   "cell_type": "code",
   "execution_count": 6,
   "metadata": {},
   "outputs": [
    {
     "name": "stderr",
     "output_type": "stream",
     "text": [
      "C:\\Users\\DEV NAYYAR\\AppData\\Local\\Temp\\ipykernel_21260\\1524677630.py:9: UserWarning: Could not infer format, so each element will be parsed individually, falling back to `dateutil`. To ensure parsing is consistent and as-expected, please specify a format.\n",
      "  train_df['launch_date'] = pd.to_datetime(train_df['launch_date'])\n",
      "C:\\Users\\DEV NAYYAR\\AppData\\Local\\Temp\\ipykernel_21260\\1524677630.py:10: UserWarning: Could not infer format, so each element will be parsed individually, falling back to `dateutil`. To ensure parsing is consistent and as-expected, please specify a format.\n",
      "  test_df['launch_date'] = pd.to_datetime(test_df['launch_date'])\n"
     ]
    }
   ],
   "source": [
    "# Preprocessing\n",
    "train_df.fillna('', inplace=True)\n",
    "test_df.fillna('', inplace=True)\n",
    "\n",
    "label_encoder = LabelEncoder()\n",
    "train_df['disease_type'] = label_encoder.fit_transform(train_df['disease_type'])\n",
    "test_df['disease_type'] = label_encoder.fit_transform(test_df['disease_type'])\n",
    "\n",
    "train_df['launch_date'] = pd.to_datetime(train_df['launch_date'])\n",
    "test_df['launch_date'] = pd.to_datetime(test_df['launch_date'])\n",
    "\n",
    "train_df['launch_year'] = train_df['launch_date'].dt.year\n",
    "train_df['launch_month'] = train_df['launch_date'].dt.month\n",
    "train_df['launch_day'] = train_df['launch_date'].dt.day\n",
    "\n",
    "test_df['launch_year'] = test_df['launch_date'].dt.year\n",
    "test_df['launch_month'] = test_df['launch_date'].dt.month\n",
    "test_df['launch_day'] = test_df['launch_date'].dt.day\n",
    "\n",
    "train_df.drop('launch_date', axis=1, inplace=True)\n",
    "test_df.drop('launch_date', axis=1, inplace=True)\n",
    "\n",
    "train_df = downcast(train_df)\n",
    "test_df = downcast(test_df)\n"
   ]
  },
  {
   "cell_type": "code",
   "execution_count": 7,
   "metadata": {},
   "outputs": [],
   "source": [
    "# TF-IDF Vectorization\n",
    "tfidf = TfidfVectorizer(max_features=500)\n",
    "tfidf_train = tfidf.fit_transform(train_df['medicine_review'])\n",
    "tfidf_test = tfidf.transform(test_df['medicine_review'])\n",
    "\n",
    "tfidf_train_df = pd.DataFrame.sparse.from_spmatrix(tfidf_train, columns=tfidf.get_feature_names_out())\n",
    "tfidf_test_df = pd.DataFrame.sparse.from_spmatrix(tfidf_test, columns=tfidf.get_feature_names_out())\n",
    "\n",
    "train_df = pd.concat([train_df.reset_index(drop=True), tfidf_train_df.reset_index(drop=True)], axis=1)\n",
    "test_df = pd.concat([test_df.reset_index(drop=True), tfidf_test_df.reset_index(drop=True)], axis=1)\n",
    "\n",
    "train_df.drop('medicine_review', axis=1, inplace=True)\n",
    "test_df.drop('medicine_review', axis=1, inplace=True)\n"
   ]
  },
  {
   "cell_type": "code",
   "execution_count": 8,
   "metadata": {},
   "outputs": [
    {
     "name": "stderr",
     "output_type": "stream",
     "text": [
      "c:\\Users\\DEV NAYYAR\\Desktop\\Predictive projects\\env\\Lib\\site-packages\\sklearn\\utils\\validation.py:872: UserWarning: pandas.DataFrame with sparse columns found.It will be converted to a dense numpy array.\n",
      "  warnings.warn(\n"
     ]
    },
    {
     "name": "stdout",
     "output_type": "stream",
     "text": [
      "Validation RMSE: 29.28999769239076, Score: 70.71000230760924\n"
     ]
    },
    {
     "name": "stderr",
     "output_type": "stream",
     "text": [
      "c:\\Users\\DEV NAYYAR\\Desktop\\Predictive projects\\env\\Lib\\site-packages\\sklearn\\utils\\validation.py:872: UserWarning: pandas.DataFrame with sparse columns found.It will be converted to a dense numpy array.\n",
      "  warnings.warn(\n"
     ]
    }
   ],
   "source": [
    "# Training and Evaluation\n",
    "X = train_df.drop(['score', 'medicine_no'], axis=1)\n",
    "y = train_df['score']\n",
    "\n",
    "X_train, X_val, y_train, y_val = train_test_split(X, y, test_size=0.2, random_state=42)\n",
    "\n",
    "model = RandomForestRegressor(n_estimators=100, max_depth=10, random_state=42)\n",
    "model.fit(X_train, y_train)\n",
    "\n"
   ]
  },
  {
   "cell_type": "code",
   "execution_count": 9,
   "metadata": {},
   "outputs": [
    {
     "name": "stdout",
     "output_type": "stream",
     "text": [
      "Validation RMSE: 29.28999769239076, Score: 70.71000230760924\n"
     ]
    },
    {
     "name": "stderr",
     "output_type": "stream",
     "text": [
      "c:\\Users\\DEV NAYYAR\\Desktop\\Predictive projects\\env\\Lib\\site-packages\\sklearn\\utils\\validation.py:872: UserWarning: pandas.DataFrame with sparse columns found.It will be converted to a dense numpy array.\n",
      "  warnings.warn(\n"
     ]
    }
   ],
   "source": [
    "y_pred = model.predict(X_val)\n",
    "rmse = np.sqrt(mean_squared_error(y_val, y_pred))\n",
    "score = max(0, 100 - rmse)\n",
    "print(f'Validation RMSE: {rmse}, Score: {score}')"
   ]
  },
  {
   "cell_type": "code",
   "execution_count": 10,
   "metadata": {},
   "outputs": [
    {
     "name": "stderr",
     "output_type": "stream",
     "text": [
      "c:\\Users\\DEV NAYYAR\\Desktop\\Predictive projects\\env\\Lib\\site-packages\\sklearn\\utils\\validation.py:872: UserWarning: pandas.DataFrame with sparse columns found.It will be converted to a dense numpy array.\n",
      "  warnings.warn(\n"
     ]
    }
   ],
   "source": [
    "# Predictions and Submission\n",
    "X_test = test_df.drop(['medicine_no'], axis=1)\n",
    "test_preds = model.predict(X_test)\n",
    "\n",
    "submission_df = pd.DataFrame({'medicine_no': test_df['medicine_no'], 'score': test_preds})\n",
    "submission_df.to_csv('submission.csv', index=False)\n"
   ]
  }
 ],
 "metadata": {
  "kernelspec": {
   "display_name": "env",
   "language": "python",
   "name": "python3"
  },
  "language_info": {
   "codemirror_mode": {
    "name": "ipython",
    "version": 3
   },
   "file_extension": ".py",
   "mimetype": "text/x-python",
   "name": "python",
   "nbconvert_exporter": "python",
   "pygments_lexer": "ipython3",
   "version": "3.12.2"
  }
 },
 "nbformat": 4,
 "nbformat_minor": 2
}
